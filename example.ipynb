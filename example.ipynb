{
 "cells": [
  {
   "cell_type": "code",
   "execution_count": null,
   "metadata": {},
   "outputs": [],
   "source": [
    "# import FMask object\n",
    "# this imports `pyfmask` from the adjacent directory if not installed\n",
    "from pyfmask import FMask\n",
    "\n",
    "# assign variables\n",
    "infile: str = path/to/infile/{*._MTL.txt, MTD_*.xml}\n",
    "outfile_dir: str = path/to/outfile/dir\n",
    "dem_path: str = path/to/dem/dir\n",
    "gswo_path: str = path/to/gswo/dir\n",
    "out_name: str = \"pyfmask_example.tif\""
   ]
  },
  {
   "cell_type": "markdown",
   "metadata": {},
   "source": [
    "## Example 1\n",
    "\n",
    "Creates `FMask` object that will `auto_run` the fmask algorithm and then `auto_save` fmask results but not the cloud probabilities."
   ]
  },
  {
   "cell_type": "code",
   "execution_count": null,
   "metadata": {},
   "outputs": [],
   "source": [
    "control = FMask(infile=infile, out_dir=outfile_dir,dem_path=dem_path, \n",
    "gswo_path=gswo_path, out_name=out_name, auto_save=True, save_cloud_prob=False, auto_run=True\n",
    ")"
   ]
  },
  {
   "cell_type": "markdown",
   "metadata": {},
   "source": [
    "## Example 2\n",
    "\n",
    "Creates `FMask` object that will not `auto_run` or `auto_save`. `dem_path` is **not** included so if MAPZEN fails DEMData will not be used. Temporary directory is not deleted after run. "
   ]
  },
  {
   "cell_type": "code",
   "execution_count": null,
   "metadata": {},
   "outputs": [],
   "source": [
    "control = FMask(infile=infile, out_dir=outfile_dir,dem_path=dem_path, \n",
    "gswo_path=gswo_path, out_name=out_name, auto_save=False, save_cloud_prob=False, auto_run=False, delete_temp_dir=False\n",
    ")\n",
    "\n",
    "control.run()\n",
    "control.save_results()"
   ]
  },
  {
   "cell_type": "markdown",
   "metadata": {},
   "source": [
    "## Example 3\n",
    "Creates `FMask` object that will `auto_run` and `auto_save`. MAPZEN is not used so `dem_path` is included. We are saving cloud probability file - `save_cloud_prob` "
   ]
  },
  {
   "cell_type": "code",
   "execution_count": null,
   "metadata": {},
   "outputs": [],
   "source": [
    "control = FMask(infile=infile, out_dir=outfile_dir,dem_path=dem_path, \n",
    "gswo_path=gswo_path, out_name=out_name, auto_save=True, save_cloud_prob=True, auto_run=True, use_mapzen=False\n",
    ")"
   ]
  },
  {
   "cell_type": "markdown",
   "metadata": {},
   "source": [
    "## Example 4\n",
    "\n",
    "Similar to example 1 except we are overriding several default parameters"
   ]
  },
  {
   "cell_type": "code",
   "execution_count": null,
   "metadata": {},
   "outputs": [],
   "source": [
    "control = FMask(infile=infile, out_dir=outfile_dir,dem_path=dem_path, \n",
    "gswo_path=gswo_path, out_name=out_name, auto_save=True, save_cloud_prob=False, auto_run=True,\n",
    "dilated_cloud_px=4, dilated_shadow_px=5, dilated_snow_px=6\n",
    ")"
   ]
  },
  {
   "cell_type": "markdown",
   "metadata": {},
   "source": [
    "## Example 5 CLI\n",
    "\n",
    "If `pyfmask` is installed"
   ]
  },
  {
   "cell_type": "code",
   "execution_count": null,
   "metadata": {},
   "outputs": [],
   "source": [
    "!pyfmask path/to/infile path/to/out/dir example_outfile.tif --gswo_path path/to/gswo"
   ]
  },
  {
   "cell_type": "markdown",
   "metadata": {},
   "source": [
    "## Example 6 CLI\n",
    "\n",
    "Using poetry run"
   ]
  },
  {
   "cell_type": "code",
   "execution_count": null,
   "metadata": {},
   "outputs": [],
   "source": [
    "!poetry run pyfmask path/to/infile path/to/out/dir example_outfile.tif --gswo_path path/to/gswo"
   ]
  }
 ],
 "metadata": {
  "language_info": {
   "name": "python"
  },
  "orig_nbformat": 4
 },
 "nbformat": 4,
 "nbformat_minor": 2
}
